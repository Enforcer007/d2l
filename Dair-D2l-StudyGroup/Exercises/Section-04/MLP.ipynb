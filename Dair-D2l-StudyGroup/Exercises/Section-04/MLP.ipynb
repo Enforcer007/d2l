{
 "cells": [
  {
   "cell_type": "code",
   "execution_count": 29,
   "metadata": {},
   "outputs": [],
   "source": [
    "import tensorflow as tf\n",
    "import matplotlib.pyplot as plt"
   ]
  },
  {
   "cell_type": "markdown",
   "metadata": {},
   "source": [
    "### Relu"
   ]
  },
  {
   "cell_type": "code",
   "execution_count": 5,
   "metadata": {},
   "outputs": [],
   "source": [
    "X = tf.Variable(tf.random.normal((10,1)))"
   ]
  },
  {
   "cell_type": "code",
   "execution_count": 14,
   "metadata": {},
   "outputs": [],
   "source": [
    "with tf.GradientTape() as gt:\n",
    "    activations = tf.nn.relu(X)\n",
    "gradients = gt.gradient(activations,X)"
   ]
  },
  {
   "cell_type": "code",
   "execution_count": 15,
   "metadata": {},
   "outputs": [
    {
     "data": {
      "text/plain": [
       "<matplotlib.collections.PathCollection at 0x7fb448f39d10>"
      ]
     },
     "execution_count": 15,
     "metadata": {},
     "output_type": "execute_result"
    },
    {
     "data": {
      "image/png": "[encoded data removed]",
      "text/plain": [
       "<Figure size 432x288 with 1 Axes>"
      ]
     },
     "metadata": {
      "needs_background": "light"
     },
     "output_type": "display_data"
    }
   ],
   "source": [
    "plt.scatter(X.numpy(),activations.numpy())"
   ]
  },
  {
   "cell_type": "code",
   "execution_count": 16,
   "metadata": {},
   "outputs": [
    {
     "data": {
      "text/plain": [
       "<matplotlib.collections.PathCollection at 0x7fb448eb1250>"
      ]
     },
     "execution_count": 16,
     "metadata": {},
     "output_type": "execute_result"
    },
    {
     "data": {
      "image/png": "[encoded data removed]",
      "text/plain": [
       "<Figure size 432x288 with 1 Axes>"
      ]
     },
     "metadata": {
      "needs_background": "light"
     },
     "output_type": "display_data"
    }
   ],
   "source": [
    "plt.scatter(X.numpy(),gradients)"
   ]
  },
  {
   "cell_type": "markdown",
   "metadata": {},
   "source": [
    "### Sigmoid"
   ]
  },
  {
   "cell_type": "code",
   "execution_count": 22,
   "metadata": {},
   "outputs": [
    {
     "data": {
      "text/plain": [
       "<tf.Tensor: shape=(40,), dtype=float64, numpy=\n",
       "array([-10.        ,  -9.48717949,  -8.97435897,  -8.46153846,\n",
       "        -7.94871795,  -7.43589744,  -6.92307692,  -6.41025641,\n",
       "        -5.8974359 ,  -5.38461538,  -4.87179487,  -4.35897436,\n",
       "        -3.84615385,  -3.33333333,  -2.82051282,  -2.30769231,\n",
       "        -1.79487179,  -1.28205128,  -0.76923077,  -0.25641026,\n",
       "         0.25641026,   0.76923077,   1.28205128,   1.79487179,\n",
       "         2.30769231,   2.82051282,   3.33333333,   3.84615385,\n",
       "         4.35897436,   4.87179487,   5.38461538,   5.8974359 ,\n",
       "         6.41025641,   6.92307692,   7.43589744,   7.94871795,\n",
       "         8.46153846,   8.97435897,   9.48717949,  10.        ])>"
      ]
     },
     "execution_count": 22,
     "metadata": {},
     "output_type": "execute_result"
    }
   ],
   "source": []
  },
  {
   "cell_type": "code",
   "execution_count": 23,
   "metadata": {},
   "outputs": [],
   "source": [
    "X = tf.Variable(tf.linspace(-10,10,40))\n",
    "with tf.GradientTape() as gt:\n",
    "    activations = tf.nn.sigmoid(X)\n",
    "gradients = gt.gradient(activations,X)"
   ]
  },
  {
   "cell_type": "code",
   "execution_count": 24,
   "metadata": {},
   "outputs": [
    {
     "data": {
      "text/plain": [
       "<matplotlib.collections.PathCollection at 0x7fb448f12890>"
      ]
     },
     "execution_count": 24,
     "metadata": {},
     "output_type": "execute_result"
    },
    {
     "data": {
      "image/png": "[encoded data removed]",
      "text/plain": [
       "<Figure size 432x288 with 1 Axes>"
      ]
     },
     "metadata": {
      "needs_background": "light"
     },
     "output_type": "display_data"
    }
   ],
   "source": [
    "plt.scatter(X.numpy(),activations.numpy())"
   ]
  },
  {
   "cell_type": "code",
   "execution_count": 25,
   "metadata": {},
   "outputs": [
    {
     "data": {
      "text/plain": [
       "<matplotlib.collections.PathCollection at 0x7fb448f12690>"
      ]
     },
     "execution_count": 25,
     "metadata": {},
     "output_type": "execute_result"
    },
    {
     "data": {
      "image/png": "[encoded data removed]",
      "text/plain": [
       "<Figure size 432x288 with 1 Axes>"
      ]
     },
     "metadata": {
      "needs_background": "light"
     },
     "output_type": "display_data"
    }
   ],
   "source": [
    "plt.scatter(X.numpy(),gradients)"
   ]
  },
  {
   "cell_type": "markdown",
   "metadata": {},
   "source": [
    "### MLP from Scratch"
   ]
  },
  {
   "cell_type": "code",
   "execution_count": 36,
   "metadata": {},
   "outputs": [],
   "source": [
    "from tensorflow.keras import datasets"
   ]
  },
  {
   "cell_type": "code",
   "execution_count": 37,
   "metadata": {},
   "outputs": [],
   "source": [
    "fashion_mnist = datasets.fashion_mnist"
   ]
  },
  {
   "cell_type": "code",
   "execution_count": 42,
   "metadata": {},
   "outputs": [],
   "source": [
    "(train_x,train_y),(test_x,test_y) = fashion_mnist.load_data()"
   ]
  },
  {
   "cell_type": "markdown",
   "metadata": {},
   "source": [
    "### Flatten and normalize train and test"
   ]
  },
  {
   "cell_type": "code",
   "execution_count": 43,
   "metadata": {},
   "outputs": [],
   "source": [
    "train_x, test_x = [tf.reshape(i,(-1,28*28))/255 for i in [train_x, test_x]]"
   ]
  },
  {
   "cell_type": "code",
   "execution_count": 60,
   "metadata": {},
   "outputs": [],
   "source": [
    "train_dataset = tf.data.Dataset.from_tensor_slices((train_x,train_y)).batch(32)"
   ]
  },
  {
   "cell_type": "markdown",
   "metadata": {},
   "source": [
    "### Create Model From Scratch"
   ]
  },
  {
   "cell_type": "code",
   "execution_count": 87,
   "metadata": {},
   "outputs": [],
   "source": [
    "hidden_layer_units = 20"
   ]
  },
  {
   "cell_type": "code",
   "execution_count": 88,
   "metadata": {},
   "outputs": [],
   "source": [
    "w1 = tf.Variable(tf.random.normal((train_x.shape[-1],hidden_layer_units)))\n",
    "b1 = tf.Variable(tf.random.normal((1,)))\n",
    "w2 = tf.Variable(tf.random.normal((hidden_layer_units,10)))\n",
    "b2 = tf.Variable(tf.random.normal((1,)))"
   ]
  },
  {
   "cell_type": "code",
   "execution_count": 89,
   "metadata": {},
   "outputs": [],
   "source": [
    "def relu(x):\n",
    "    zeros = tf.zeros_like(x)\n",
    "    return tf.math.maximum(x,zeros)"
   ]
  },
  {
   "cell_type": "code",
   "execution_count": 90,
   "metadata": {},
   "outputs": [],
   "source": [
    "def forward_pass(x):\n",
    "    y1 = tf.tensordot(x,w1,1)+b1\n",
    "    y1_act = relu(y1)\n",
    "    y2 = tf.tensordot(y1_act,w2,1)+b2\n",
    "    return y2"
   ]
  },
  {
   "cell_type": "code",
   "execution_count": 91,
   "metadata": {},
   "outputs": [],
   "source": [
    "loss = tf.nn.sparse_softmax_cross_entropy_with_logits"
   ]
  },
  {
   "cell_type": "code",
   "execution_count": 92,
   "metadata": {},
   "outputs": [],
   "source": [
    "optimizer = tf.keras.optimizers.Adam(0.01)"
   ]
  },
  {
   "cell_type": "code",
   "execution_count": 93,
   "metadata": {},
   "outputs": [
    {
     "name": "stdout",
     "output_type": "stream",
     "text": [
      "tf.Tensor(28.801332, shape=(), dtype=float32)\n",
      "tf.Tensor(19.41587, shape=(), dtype=float32)\n",
      "tf.Tensor(17.861305, shape=(), dtype=float32)\n",
      "tf.Tensor(15.241432, shape=(), dtype=float32)\n",
      "tf.Tensor(15.054805, shape=(), dtype=float32)\n",
      "tf.Tensor(13.348408, shape=(), dtype=float32)\n",
      "tf.Tensor(12.871298, shape=(), dtype=float32)\n",
      "tf.Tensor(13.447802, shape=(), dtype=float32)\n",
      "tf.Tensor(13.293612, shape=(), dtype=float32)\n",
      "tf.Tensor(13.184313, shape=(), dtype=float32)\n"
     ]
    }
   ],
   "source": [
    "for i in range(10):\n",
    "    for samples, y_labels in train_dataset:\n",
    "        y_labels = tf.cast(y_labels,tf.int32)\n",
    "        with tf.GradientTape() as gt:\n",
    "            op = forward_pass(samples)\n",
    "            y_loss = loss(y_labels,op)\n",
    "            z_loss = tf.reduce_sum(y_loss)\n",
    "        grads = gt.gradient(z_loss,[w1,b1,w2,b2])\n",
    "        optimizer.apply_gradients(zip(grads,[w1,b1,w2,b2]))\n",
    "    print(z_loss)"
   ]
  },
  {
   "cell_type": "code",
   "execution_count": null,
   "metadata": {},
   "outputs": [],
   "source": []
  }
 ],
 "metadata": {
  "kernelspec": {
   "display_name": "Python [conda env:Prediction]",
   "language": "python",
   "name": "conda-env-Prediction-py"
  },
  "language_info": {
   "codemirror_mode": {
    "name": "ipython",
    "version": 3
   },
   "file_extension": ".py",
   "mimetype": "text/x-python",
   "name": "python",
   "nbconvert_exporter": "python",
   "pygments_lexer": "ipython3",
   "version": "3.7.7"
  }
 },
 "nbformat": 4,
 "nbformat_minor": 4
}
