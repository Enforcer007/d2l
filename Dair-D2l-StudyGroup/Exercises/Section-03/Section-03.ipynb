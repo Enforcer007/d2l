{
 "cells": [
  {
   "cell_type": "markdown",
   "metadata": {},
   "source": [
    "# Implementing Backward Propogation"
   ]
  },
  {
   "cell_type": "code",
   "execution_count": 1,
   "metadata": {},
   "outputs": [],
   "source": [
    "import tensorflow as tf"
   ]
  },
  {
   "cell_type": "markdown",
   "metadata": {},
   "source": [
    "# Generate Synthetic Data"
   ]
  },
  {
   "cell_type": "markdown",
   "metadata": {},
   "source": [
    "### Weights and Bias"
   ]
  },
  {
   "cell_type": "code",
   "execution_count": 2,
   "metadata": {},
   "outputs": [],
   "source": [
    "weights = tf.constant([2,-3.4],dtype=tf.float32)\n",
    "bias = tf.constant([4.2],dtype=tf.float32)"
   ]
  },
  {
   "cell_type": "markdown",
   "metadata": {},
   "source": [
    "### Generate 10,000 Samples from random distribution"
   ]
  },
  {
   "cell_type": "code",
   "execution_count": 3,
   "metadata": {},
   "outputs": [],
   "source": [
    "N=1000\n",
    "dims = weights.shape[0]\n",
    "batch_size=16"
   ]
  },
  {
   "cell_type": "code",
   "execution_count": 4,
   "metadata": {},
   "outputs": [],
   "source": [
    "samples = tf.random.normal((N,dims))"
   ]
  },
  {
   "cell_type": "code",
   "execution_count": 5,
   "metadata": {},
   "outputs": [],
   "source": [
    "y = tf.tensordot(samples,weights,1)+bias"
   ]
  },
  {
   "cell_type": "markdown",
   "metadata": {},
   "source": [
    "## Add Noise"
   ]
  },
  {
   "cell_type": "code",
   "execution_count": 6,
   "metadata": {},
   "outputs": [],
   "source": [
    "y = y+tf.random.normal((N,))"
   ]
  },
  {
   "cell_type": "code",
   "execution_count": 7,
   "metadata": {},
   "outputs": [
    {
     "data": {
      "text/plain": [
       "TensorShape([1000])"
      ]
     },
     "execution_count": 7,
     "metadata": {},
     "output_type": "execute_result"
    }
   ],
   "source": [
    "y.shape"
   ]
  },
  {
   "cell_type": "markdown",
   "metadata": {},
   "source": [
    "## Initiate random weights"
   ]
  },
  {
   "cell_type": "code",
   "execution_count": 8,
   "metadata": {},
   "outputs": [],
   "source": [
    "w = tf.random.normal((dims,))\n",
    "b = tf.random.normal((1,))"
   ]
  },
  {
   "cell_type": "code",
   "execution_count": 9,
   "metadata": {},
   "outputs": [],
   "source": [
    "w,b = [tf.Variable(i) for i in [w,b]]"
   ]
  },
  {
   "cell_type": "markdown",
   "metadata": {},
   "source": [
    "### Custom Gradient implementation for BP (Linear Function)"
   ]
  },
  {
   "cell_type": "code",
   "execution_count": 10,
   "metadata": {},
   "outputs": [],
   "source": [
    "@tf.custom_gradient\n",
    "def forward_pass(x,w,b):\n",
    "    def grad(dy):\n",
    "        #print(tf.tensordot(dy,x,1).shape)\n",
    "        return None,tf.tensordot(dy,x,1), tf.reduce_mean(dy,keepdims=True)\n",
    "    return tf.tensordot(x,w,1)+b, grad"
   ]
  },
  {
   "cell_type": "code",
   "execution_count": 11,
   "metadata": {},
   "outputs": [],
   "source": [
    "def batch_output(n=16):\n",
    "    for i in range(N//n):\n",
    "        yield samples[i*n:i*n+n], i*n"
   ]
  },
  {
   "cell_type": "markdown",
   "metadata": {},
   "source": [
    "### Custom Gradient implementation for BP (Error Loss)"
   ]
  },
  {
   "cell_type": "code",
   "execution_count": 12,
   "metadata": {},
   "outputs": [],
   "source": [
    "@tf.custom_gradient\n",
    "def loss(y,y_act):\n",
    "    loss_vector = tf.math.square(y-y_act)\n",
    "    def grad(dy):\n",
    "        return dy*(y-y_act),dy*(y-y_act)\n",
    "    return tf.reduce_mean(loss_vector), grad"
   ]
  },
  {
   "cell_type": "code",
   "execution_count": 13,
   "metadata": {},
   "outputs": [],
   "source": [
    "def correct_gradients(w_grad, b_grad,alpha=0.1):\n",
    "    return w-alpha*w_grad, b-alpha*b_grad"
   ]
  },
  {
   "cell_type": "code",
   "execution_count": 14,
   "metadata": {
    "scrolled": false
   },
   "outputs": [
    {
     "name": "stdout",
     "output_type": "stream",
     "text": [
      "Loss at epoch 0 is 11.868980407714844\n",
      "Loss at epoch 1 is 5.209050178527832\n",
      "Loss at epoch 2 is 2.9803500175476074\n",
      "Loss at epoch 3 is 2.169306755065918\n",
      "Loss at epoch 4 is 1.8444125652313232\n"
     ]
    }
   ],
   "source": [
    "for i in range(5):\n",
    "    for batch, batch_index in batch_output(n=batch_size):\n",
    "        with tf.GradientTape() as t_graph:\n",
    "            y_forward = forward_pass(batch,w,b)\n",
    "            y_loss = loss(y_forward,y[batch_index:batch_index+batch_size])\n",
    "        w_grad, b_grad = t_graph.gradient(y_loss,[w,b])\n",
    "        w.assign_sub(0.01*w_grad), b.assign_sub(0.01*b_grad)\n",
    "    print(\"Loss at epoch {} is {}\".format(i,y_loss))"
   ]
  },
  {
   "cell_type": "markdown",
   "metadata": {},
   "source": [
    "### We determine that weights are near equal to original Weights are near equal to original weights"
   ]
  },
  {
   "cell_type": "code",
   "execution_count": 15,
   "metadata": {},
   "outputs": [
    {
     "data": {
      "text/plain": [
       "(<tf.Variable 'Variable:0' shape=(2,) dtype=float32, numpy=array([ 2.039919 , -3.4037657], dtype=float32)>,\n",
       " <tf.Variable 'Variable:0' shape=(1,) dtype=float32, numpy=array([3.990725], dtype=float32)>)"
      ]
     },
     "execution_count": 15,
     "metadata": {},
     "output_type": "execute_result"
    }
   ],
   "source": [
    "w,b"
   ]
  },
  {
   "cell_type": "code",
   "execution_count": null,
   "metadata": {},
   "outputs": [],
   "source": []
  }
 ],
 "metadata": {
  "kernelspec": {
   "display_name": "Python [conda env:Prediction]",
   "language": "python",
   "name": "conda-env-Prediction-py"
  },
  "language_info": {
   "codemirror_mode": {
    "name": "ipython",
    "version": 3
   },
   "file_extension": ".py",
   "mimetype": "text/x-python",
   "name": "python",
   "nbconvert_exporter": "python",
   "pygments_lexer": "ipython3",
   "version": "3.7.7"
  }
 },
 "nbformat": 4,
 "nbformat_minor": 4
}
